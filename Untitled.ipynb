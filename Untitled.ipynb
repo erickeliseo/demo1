{
 "cells": [
  {
   "cell_type": "markdown",
   "id": "11118806-76f5-428e-b90c-0b75915ab171",
   "metadata": {},
   "source": [
    "hola"
   ]
  }
 ],
 "metadata": {
  "kernelspec": {
   "display_name": "Python 3.9",
   "language": "python",
   "name": "python3"
  },
  "language_info": {
   "codemirror_mode": {
    "name": "ipython",
    "version": 3
   },
   "file_extension": ".py",
   "mimetype": "text/x-python",
   "name": "python",
   "nbconvert_exporter": "python",
   "pygments_lexer": "ipython3",
   "version": "3.9.16"
  }
 },
 "nbformat": 4,
 "nbformat_minor": 5
}
